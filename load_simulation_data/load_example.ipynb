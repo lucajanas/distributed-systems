{
 "cells": [
  {
   "cell_type": "code",
   "execution_count": 5,
   "id": "8139ccf1",
   "metadata": {},
   "outputs": [],
   "source": [
    "import warnings\n",
    "\n",
    "warnings.filterwarnings('ignore')\n",
    "\n",
    "import pyspark\n",
    "from pyspark.sql import SparkSession"
   ]
  },
  {
   "cell_type": "code",
   "execution_count": 6,
   "id": "751f5d3b",
   "metadata": {},
   "outputs": [
    {
     "name": "stdout",
     "output_type": "stream",
     "text": [
      "Untitled.ipynb\t Untitled2.ipynb  load_example.ipynb  ts_data_2.csv\n",
      "Untitled1.ipynb  load_data.py\t  ts_data_1.csv       ts_data_block_1.csv\n"
     ]
    }
   ],
   "source": [
    "! ls"
   ]
  },
  {
   "cell_type": "code",
   "execution_count": 7,
   "id": "af1986e3",
   "metadata": {},
   "outputs": [],
   "source": [
    "conf = pyspark.SparkConf().setMaster('spark://172.18.0.22:7077')"
   ]
  },
  {
   "cell_type": "code",
   "execution_count": 8,
   "id": "5765cc9b",
   "metadata": {},
   "outputs": [],
   "source": [
    "spark = SparkSession \\\n",
    "    .builder.config(conf=conf) \\\n",
    "    .appName(\"Python\") \\\n",
    "    .getOrCreate()"
   ]
  },
  {
   "cell_type": "code",
   "execution_count": 9,
   "id": "c5722267",
   "metadata": {},
   "outputs": [
    {
     "name": "stderr",
     "output_type": "stream",
     "text": [
      "                                                                                \r"
     ]
    },
    {
     "name": "stdout",
     "output_type": "stream",
     "text": [
      "Read csv directly via spark\n"
     ]
    },
    {
     "name": "stderr",
     "output_type": "stream",
     "text": [
      "                                                                                \r"
     ]
    },
    {
     "name": "stdout",
     "output_type": "stream",
     "text": [
      "+----------+-----+-----------+---------+\n",
      "|  datetime|pulse|   category|ts_number|\n",
      "+----------+-----+-----------+---------+\n",
      "|2021-01-01| 80.0|non_athlete|      1_1|\n",
      "|2021-01-02| 84.0|non_athlete|      1_1|\n",
      "|2021-01-03| 79.0|non_athlete|      1_1|\n",
      "|2021-01-04| 83.0|non_athlete|      1_1|\n",
      "|2021-01-05| 78.0|non_athlete|      1_1|\n",
      "|2021-01-06| 79.0|non_athlete|      1_1|\n",
      "|2021-01-07| 81.0|non_athlete|      1_1|\n",
      "|2021-01-08| 83.0|non_athlete|      1_1|\n",
      "|2021-01-09| 83.0|non_athlete|      1_1|\n",
      "|2021-01-10| 79.0|non_athlete|      1_1|\n",
      "|2021-01-11| 83.0|non_athlete|      1_1|\n",
      "|2021-01-12| 82.0|non_athlete|      1_1|\n",
      "|2021-01-13| 80.0|non_athlete|      1_1|\n",
      "|2021-01-14| 81.0|non_athlete|      1_1|\n",
      "|2021-01-15| 77.0|non_athlete|      1_1|\n",
      "|2021-01-16| 82.0|non_athlete|      1_1|\n",
      "|2021-01-17| 80.0|non_athlete|      1_1|\n",
      "|2021-01-18| 79.0|non_athlete|      1_1|\n",
      "|2021-01-19| 82.0|non_athlete|      1_1|\n",
      "|2021-01-20| 83.0|non_athlete|      1_1|\n",
      "+----------+-----+-----------+---------+\n",
      "only showing top 20 rows\n",
      "\n"
     ]
    }
   ],
   "source": [
    "df = spark.read.format(\"csv\") \\\n",
    "    .option('header', True) \\\n",
    "    .option('multiLine', True) \\\n",
    "    .load(\"file:////data/ts_data_block_1.csv\")\n",
    "\n",
    "print(\"Read csv directly via spark\")\n",
    "\n",
    "df.show()"
   ]
  },
  {
   "cell_type": "code",
   "execution_count": null,
   "id": "368a42c4",
   "metadata": {},
   "outputs": [],
   "source": []
  }
 ],
 "metadata": {
  "kernelspec": {
   "display_name": "Python 3 (ipykernel)",
   "language": "python",
   "name": "python3"
  },
  "language_info": {
   "codemirror_mode": {
    "name": "ipython",
    "version": 3
   },
   "file_extension": ".py",
   "mimetype": "text/x-python",
   "name": "python",
   "nbconvert_exporter": "python",
   "pygments_lexer": "ipython3",
   "version": "3.8.10"
  }
 },
 "nbformat": 4,
 "nbformat_minor": 5
}
