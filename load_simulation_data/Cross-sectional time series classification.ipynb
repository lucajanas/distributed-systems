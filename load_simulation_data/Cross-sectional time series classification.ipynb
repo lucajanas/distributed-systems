{
 "cells": [
  {
   "cell_type": "markdown",
   "id": "6e943633",
   "metadata": {},
   "source": [
    "# Import packages"
   ]
  },
  {
   "cell_type": "code",
   "execution_count": 1,
   "id": "59cc9995",
   "metadata": {},
   "outputs": [],
   "source": [
    "#!pip install numpy # if necessary "
   ]
  },
  {
   "cell_type": "code",
   "execution_count": 2,
   "id": "a41c4d34",
   "metadata": {},
   "outputs": [],
   "source": [
    "import warnings\n",
    "\n",
    "warnings.filterwarnings('ignore')\n",
    "\n",
    "import pyspark\n",
    "from pyspark.sql import SparkSession\n",
    "from pyspark.sql.types import *\n",
    "import pyspark.sql.functions as F\n",
    "from pyspark.ml.feature import VectorAssembler, StringIndexer\n",
    "from pyspark.ml.classification import LogisticRegression\n",
    "from pyspark.ml.evaluation import MulticlassClassificationEvaluator\n",
    "from pyspark.mllib.evaluation import MulticlassMetrics"
   ]
  },
  {
   "cell_type": "markdown",
   "id": "c398fba0",
   "metadata": {},
   "source": [
    "# Connection to Spark instance"
   ]
  },
  {
   "cell_type": "code",
   "execution_count": 3,
   "id": "68256266",
   "metadata": {},
   "outputs": [
    {
     "name": "stderr",
     "output_type": "stream",
     "text": [
      "Setting default log level to \"WARN\".\n",
      "To adjust logging level use sc.setLogLevel(newLevel). For SparkR, use setLogLevel(newLevel).\n"
     ]
    },
    {
     "name": "stdout",
     "output_type": "stream",
     "text": [
      "22/10/29 19:49:25 WARN NativeCodeLoader: Unable to load native-hadoop library for your platform... using builtin-java classes where applicable\n",
      "Submitted application!\n"
     ]
    }
   ],
   "source": [
    "conf = pyspark.SparkConf().setMaster('spark://172.18.0.22:7077')\n",
    "spark = SparkSession \\\n",
    "    .builder.config(conf=conf) \\\n",
    "    .appName(\"Python\") \\\n",
    "    .getOrCreate()\n",
    "print('Submitted application!')"
   ]
  },
  {
   "cell_type": "markdown",
   "id": "3055b1c1",
   "metadata": {},
   "source": [
    "# Read csv files from \n",
    "Please download the six files \"ts_data_block_$i$.csv\", $i={1,...,6}$, from GoogleDrive and upload it to this container before."
   ]
  },
  {
   "cell_type": "code",
   "execution_count": 4,
   "id": "0e8a13ed",
   "metadata": {},
   "outputs": [
    {
     "name": "stderr",
     "output_type": "stream",
     "text": [
      "[Stage 1:>                                                          (0 + 1) / 1]\r"
     ]
    },
    {
     "name": "stdout",
     "output_type": "stream",
     "text": [
      "All data blocks read and concatenated.\n"
     ]
    },
    {
     "name": "stderr",
     "output_type": "stream",
     "text": [
      "                                                                                \r"
     ]
    }
   ],
   "source": [
    "# Create an empty RDD\n",
    "emp_RDD = spark.sparkContext.emptyRDD()\n",
    "columns = StructType([StructField('datetime', DateType(), False),\n",
    "                       StructField('pulse', FloatType(), False),\n",
    "                       StructField('category', StringType(), False),\n",
    "                       StructField('ts_number', StringType(), False)])\n",
    "\n",
    "df = spark.createDataFrame(data=emp_RDD, schema=columns)\n",
    "\n",
    "for i in range(1, 3):\n",
    "\n",
    "    df_temp = spark.read.format(\"csv\") \\\n",
    "        .option('header', True) \\\n",
    "        .option('multiLine', True) \\\n",
    "        .option('inferSchema', True) \\\n",
    "        .load(f\"file:////data/ts_data_{i}.csv\")\n",
    "    \n",
    "    print(f'Read data block number {i}.')\n",
    "    \n",
    "    df = df.union(df_temp)\n",
    "\n",
    "print('All data blocks read and concatenated.')"
   ]
  },
  {
   "cell_type": "code",
   "execution_count": 5,
   "id": "809199d1-eb86-409b-8bb3-a5f0da9a99a3",
   "metadata": {},
   "outputs": [
    {
     "data": {
      "text/plain": [
       "pyspark.sql.dataframe.DataFrame"
      ]
     },
     "execution_count": 5,
     "metadata": {},
     "output_type": "execute_result"
    }
   ],
   "source": [
    "type(df)"
   ]
  },
  {
   "cell_type": "code",
   "execution_count": 6,
   "id": "41969e10",
   "metadata": {},
   "outputs": [
    {
     "name": "stderr",
     "output_type": "stream",
     "text": [
      "[Stage 2:>                                                          (0 + 1) / 1]\r"
     ]
    },
    {
     "name": "stdout",
     "output_type": "stream",
     "text": [
      "+-------------------+-----+-----------+---------+\n",
      "|           datetime|pulse|   category|ts_number|\n",
      "+-------------------+-----+-----------+---------+\n",
      "|2021-01-01 00:00:00| 52.0|pro_athlete|      1_1|\n",
      "|2021-01-02 00:00:00| 57.0|pro_athlete|      1_1|\n",
      "|2021-01-03 00:00:00| 54.0|pro_athlete|      1_1|\n",
      "|2021-01-04 00:00:00| 52.0|pro_athlete|      1_1|\n",
      "|2021-01-05 00:00:00| 50.0|pro_athlete|      1_1|\n",
      "+-------------------+-----+-----------+---------+\n",
      "only showing top 5 rows\n",
      "\n"
     ]
    },
    {
     "name": "stderr",
     "output_type": "stream",
     "text": [
      "                                                                                \r"
     ]
    }
   ],
   "source": [
    "df.show(5)"
   ]
  },
  {
   "cell_type": "code",
   "execution_count": 7,
   "id": "1fc1e830",
   "metadata": {},
   "outputs": [],
   "source": [
    "# print(f'Dataframe consists of {df.count()} rows.')"
   ]
  },
  {
   "cell_type": "markdown",
   "id": "47790b7e",
   "metadata": {},
   "source": [
    "# Applying Machine Learning Classification Model on time series data."
   ]
  },
  {
   "cell_type": "markdown",
   "id": "b4b72f82",
   "metadata": {},
   "source": [
    "## Feature Engineering"
   ]
  },
  {
   "cell_type": "markdown",
   "id": "3bb96ecd",
   "metadata": {},
   "source": [
    "### Group by time series data by ts_number and category and apply descriptive statistic measures on the column 'pulse' (analogue to pandas' describe() method)"
   ]
  },
  {
   "cell_type": "code",
   "execution_count": 8,
   "id": "3a6ad1e8",
   "metadata": {},
   "outputs": [],
   "source": [
    "# Define function for calculation descriptive statistics.\n",
    "def groupby_describe(df, groupby_col, stat_col):\n",
    "    out = df.groupby(groupby_col).agg(\n",
    "        F.mean(stat_col).alias(\"mean\"),\n",
    "        F.stddev(stat_col).alias(\"std\"),\n",
    "        F.min(stat_col).alias(\"min\"),\n",
    "        F.expr(f\"percentile({stat_col}, array(0.25))\")[0].alias(\"low_quart\"),\n",
    "        F.expr(f\"percentile({stat_col}, array(0.5))\")[0].alias(\"median\"),\n",
    "        F.expr(f\"percentile({stat_col}, array(0.75))\")[0].alias(\"up_quart\"),\n",
    "        F.max(stat_col).alias(\"max\"),\n",
    "    )\n",
    "    return out\n",
    "\n",
    "df_stats = groupby_describe(df, ['ts_number', 'category'], 'pulse')"
   ]
  },
  {
   "cell_type": "code",
   "execution_count": 9,
   "id": "6e39d512",
   "metadata": {},
   "outputs": [
    {
     "name": "stderr",
     "output_type": "stream",
     "text": [
      "                                                                                \r"
     ]
    },
    {
     "name": "stdout",
     "output_type": "stream",
     "text": [
      "+---------+-----------+-----------------+-------------------+----+---------+------+--------+----+\n",
      "|ts_number|   category|             mean|                std| min|low_quart|median|up_quart| max|\n",
      "+---------+-----------+-----------------+-------------------+----+---------+------+--------+----+\n",
      "|      1_1|pro_athlete|51.51111111111111| 4.2033813153100485|42.0|     49.0|  51.0|    54.0|61.0|\n",
      "|     1_10|non_athlete|             80.0|                0.0|80.0|     80.0|  80.0|    80.0|80.0|\n",
      "|    1_100|pro_athlete|47.75555555555555|   1.24801965476376|45.0|     47.0|  48.0|   48.75|51.0|\n",
      "|    1_101|    athlete|72.81111111111112| 0.4211926470661242|72.0|     73.0|  73.0|    73.0|74.0|\n",
      "|    1_102|non_athlete|80.05555555555556|0.23034469096157306|80.0|     80.0|  80.0|    80.0|81.0|\n",
      "+---------+-----------+-----------------+-------------------+----+---------+------+--------+----+\n",
      "only showing top 5 rows\n",
      "\n"
     ]
    }
   ],
   "source": [
    "df_stats.show(5)"
   ]
  },
  {
   "cell_type": "code",
   "execution_count": 10,
   "id": "1d1e1903",
   "metadata": {},
   "outputs": [],
   "source": [
    "#print(f'Dataframe consists of {df_stats.count()} rows.')"
   ]
  },
  {
   "cell_type": "markdown",
   "id": "c27d6df0",
   "metadata": {},
   "source": [
    "### Encoding \"category\" column and store as Target:"
   ]
  },
  {
   "cell_type": "code",
   "execution_count": 11,
   "id": "57eed2ba",
   "metadata": {},
   "outputs": [
    {
     "name": "stderr",
     "output_type": "stream",
     "text": [
      "                                                                                \r"
     ]
    }
   ],
   "source": [
    "catEncoder = StringIndexer(inputCol='category', outputCol='Target').fit(df_stats)\n",
    "df_stats = catEncoder.transform(df_stats)"
   ]
  },
  {
   "cell_type": "code",
   "execution_count": 12,
   "id": "1cf01725",
   "metadata": {},
   "outputs": [
    {
     "name": "stderr",
     "output_type": "stream",
     "text": [
      "                                                                                \r"
     ]
    },
    {
     "name": "stdout",
     "output_type": "stream",
     "text": [
      "+---------+-----------+-----------------+-------------------+----+---------+------+--------+----+------+\n",
      "|ts_number|   category|             mean|                std| min|low_quart|median|up_quart| max|Target|\n",
      "+---------+-----------+-----------------+-------------------+----+---------+------+--------+----+------+\n",
      "|      1_1|pro_athlete|51.51111111111111| 4.2033813153100485|42.0|     49.0|  51.0|    54.0|61.0|   1.0|\n",
      "|     1_10|non_athlete|             80.0|                0.0|80.0|     80.0|  80.0|    80.0|80.0|   2.0|\n",
      "|    1_100|pro_athlete|47.75555555555555|   1.24801965476376|45.0|     47.0|  48.0|   48.75|51.0|   1.0|\n",
      "|    1_101|    athlete|72.81111111111112| 0.4211926470661242|72.0|     73.0|  73.0|    73.0|74.0|   0.0|\n",
      "|    1_102|non_athlete|80.05555555555556|0.23034469096157306|80.0|     80.0|  80.0|    80.0|81.0|   2.0|\n",
      "+---------+-----------+-----------------+-------------------+----+---------+------+--------+----+------+\n",
      "only showing top 5 rows\n",
      "\n"
     ]
    }
   ],
   "source": [
    "df_stats.show(5)"
   ]
  },
  {
   "cell_type": "markdown",
   "id": "f953917d",
   "metadata": {},
   "source": [
    "### Transform features to a vector"
   ]
  },
  {
   "cell_type": "code",
   "execution_count": 13,
   "id": "e0e605c0",
   "metadata": {},
   "outputs": [
    {
     "name": "stdout",
     "output_type": "stream",
     "text": [
      "Transform features to vector and store as 'features':\n"
     ]
    }
   ],
   "source": [
    "print(\"Transform features to vector and store as 'features':\")\n",
    "required_features = ['mean', 'std', 'min', 'low_quart', 'median', 'up_quart', 'max', 'Target']\n",
    "\n",
    "vec_assembler = VectorAssembler(inputCols=required_features, outputCol='features')\n",
    "df_stats_vec = vec_assembler.transform(df_stats)"
   ]
  },
  {
   "cell_type": "code",
   "execution_count": 14,
   "id": "489c9b66",
   "metadata": {},
   "outputs": [
    {
     "name": "stderr",
     "output_type": "stream",
     "text": [
      "[Stage 17:>                                                         (0 + 1) / 1]\r"
     ]
    },
    {
     "name": "stdout",
     "output_type": "stream",
     "text": [
      "+---------+-----------+-----------------+-------------------+----+---------+------+--------+----+------+--------------------+\n",
      "|ts_number|   category|             mean|                std| min|low_quart|median|up_quart| max|Target|            features|\n",
      "+---------+-----------+-----------------+-------------------+----+---------+------+--------+----+------+--------------------+\n",
      "|      1_1|pro_athlete|51.51111111111111| 4.2033813153100485|42.0|     49.0|  51.0|    54.0|61.0|   1.0|[51.5111111111111...|\n",
      "|     1_10|non_athlete|             80.0|                0.0|80.0|     80.0|  80.0|    80.0|80.0|   2.0|[80.0,0.0,80.0,80...|\n",
      "|    1_100|pro_athlete|47.75555555555555|   1.24801965476376|45.0|     47.0|  48.0|   48.75|51.0|   1.0|[47.7555555555555...|\n",
      "|    1_101|    athlete|72.81111111111112| 0.4211926470661242|72.0|     73.0|  73.0|    73.0|74.0|   0.0|[72.8111111111111...|\n",
      "|    1_102|non_athlete|80.05555555555556|0.23034469096157306|80.0|     80.0|  80.0|    80.0|81.0|   2.0|[80.0555555555555...|\n",
      "+---------+-----------+-----------------+-------------------+----+---------+------+--------+----+------+--------------------+\n",
      "only showing top 5 rows\n",
      "\n"
     ]
    },
    {
     "name": "stderr",
     "output_type": "stream",
     "text": [
      "                                                                                \r"
     ]
    }
   ],
   "source": [
    "df_stats_vec.show(5)"
   ]
  },
  {
   "cell_type": "markdown",
   "id": "cd94015d",
   "metadata": {},
   "source": [
    "### Split data set into training (70%) and test data set (30%)"
   ]
  },
  {
   "cell_type": "code",
   "execution_count": 15,
   "id": "52a0c80f",
   "metadata": {},
   "outputs": [],
   "source": [
    "train_df, test_df = df_stats_vec.randomSplit([0.7, 0.3], seed=12345)"
   ]
  },
  {
   "cell_type": "code",
   "execution_count": 16,
   "id": "f6bdfc10-a287-4f5b-a8ec-5521fd2a7fa0",
   "metadata": {},
   "outputs": [
    {
     "name": "stderr",
     "output_type": "stream",
     "text": [
      "[Stage 20:>                                                         (0 + 1) / 1]\r"
     ]
    },
    {
     "name": "stdout",
     "output_type": "stream",
     "text": [
      "+---------+-----------+-----------------+-------------------+----+---------+------+--------+----+------+--------------------+\n",
      "|ts_number|   category|             mean|                std| min|low_quart|median|up_quart| max|Target|            features|\n",
      "+---------+-----------+-----------------+-------------------+----+---------+------+--------+----+------+--------------------+\n",
      "|      1_1|pro_athlete|51.51111111111111| 4.2033813153100485|42.0|     49.0|  51.0|    54.0|61.0|   1.0|[51.5111111111111...|\n",
      "|     1_10|non_athlete|             80.0|                0.0|80.0|     80.0|  80.0|    80.0|80.0|   2.0|[80.0,0.0,80.0,80...|\n",
      "|    1_100|pro_athlete|47.75555555555555|   1.24801965476376|45.0|     47.0|  48.0|   48.75|51.0|   1.0|[47.7555555555555...|\n",
      "|    1_101|    athlete|72.81111111111112| 0.4211926470661242|72.0|     73.0|  73.0|    73.0|74.0|   0.0|[72.8111111111111...|\n",
      "|    1_102|non_athlete|80.05555555555556|0.23034469096157306|80.0|     80.0|  80.0|    80.0|81.0|   2.0|[80.0555555555555...|\n",
      "+---------+-----------+-----------------+-------------------+----+---------+------+--------+----+------+--------------------+\n",
      "only showing top 5 rows\n",
      "\n"
     ]
    },
    {
     "name": "stderr",
     "output_type": "stream",
     "text": [
      "                                                                                \r"
     ]
    }
   ],
   "source": [
    "train_df.show(5)"
   ]
  },
  {
   "cell_type": "code",
   "execution_count": 18,
   "id": "5e0ed4da",
   "metadata": {},
   "outputs": [],
   "source": [
    "#print(f\"Number of train dataset: {train_df.count()}\")\n",
    "#print(f\"Number of test  dataset: {test_df.count()}\")"
   ]
  },
  {
   "cell_type": "markdown",
   "id": "fafd155d",
   "metadata": {},
   "source": [
    "## Apply Multinomial Logistic Regression as Classification Model"
   ]
  },
  {
   "cell_type": "markdown",
   "id": "87fcd166",
   "metadata": {},
   "source": [
    "### Apply Logistic Regression model based on training data set and predict category on test data set"
   ]
  },
  {
   "cell_type": "code",
   "execution_count": 19,
   "id": "570eccd2-ed1a-45fc-a3fb-6d755ec0fc8c",
   "metadata": {},
   "outputs": [],
   "source": [
    "lr = LogisticRegression(featuresCol='features', labelCol='Target')"
   ]
  },
  {
   "cell_type": "code",
   "execution_count": 20,
   "id": "c227265f",
   "metadata": {},
   "outputs": [
    {
     "name": "stderr",
     "output_type": "stream",
     "text": [
      "ERROR:root:Exception while sending command.                         (0 + 1) / 1]\n",
      "Traceback (most recent call last):\n",
      "  File \"/usr/local/lib/python3.8/dist-packages/py4j/clientserver.py\", line 516, in send_command\n",
      "    raise Py4JNetworkError(\"Answer from Java side is empty\")\n",
      "py4j.protocol.Py4JNetworkError: Answer from Java side is empty\n",
      "\n",
      "During handling of the above exception, another exception occurred:\n",
      "\n",
      "Traceback (most recent call last):\n",
      "  File \"/usr/local/lib/python3.8/dist-packages/py4j/java_gateway.py\", line 1038, in send_command\n",
      "    response = connection.send_command(command)\n",
      "  File \"/usr/local/lib/python3.8/dist-packages/py4j/clientserver.py\", line 539, in send_command\n",
      "    raise Py4JNetworkError(\n",
      "py4j.protocol.Py4JNetworkError: Error while sending or receiving\n",
      "ERROR:root:Exception while sending command.\n",
      "Traceback (most recent call last):\n",
      "  File \"/usr/local/lib/python3.8/dist-packages/py4j/clientserver.py\", line 516, in send_command\n",
      "    raise Py4JNetworkError(\"Answer from Java side is empty\")\n",
      "py4j.protocol.Py4JNetworkError: Answer from Java side is empty\n",
      "\n",
      "During handling of the above exception, another exception occurred:\n",
      "\n",
      "Traceback (most recent call last):\n",
      "  File \"/usr/local/lib/python3.8/dist-packages/py4j/java_gateway.py\", line 1038, in send_command\n",
      "    response = connection.send_command(command)\n",
      "  File \"/usr/local/lib/python3.8/dist-packages/py4j/clientserver.py\", line 539, in send_command\n",
      "    raise Py4JNetworkError(\n",
      "py4j.protocol.Py4JNetworkError: Error while sending or receiving\n"
     ]
    },
    {
     "ename": "Py4JError",
     "evalue": "An error occurred while calling o147.fit",
     "output_type": "error",
     "traceback": [
      "\u001b[0;31m---------------------------------------------------------------------------\u001b[0m",
      "\u001b[0;31mPy4JError\u001b[0m                                 Traceback (most recent call last)",
      "Cell \u001b[0;32mIn [20], line 1\u001b[0m\n\u001b[0;32m----> 1\u001b[0m lr_model \u001b[38;5;241m=\u001b[39m \u001b[43mlr\u001b[49m\u001b[38;5;241;43m.\u001b[39;49m\u001b[43mfit\u001b[49m\u001b[43m(\u001b[49m\u001b[43mtrain_df\u001b[49m\u001b[43m)\u001b[49m\n",
      "File \u001b[0;32m/usr/local/lib/python3.8/dist-packages/pyspark/ml/base.py:205\u001b[0m, in \u001b[0;36mEstimator.fit\u001b[0;34m(self, dataset, params)\u001b[0m\n\u001b[1;32m    203\u001b[0m         \u001b[38;5;28;01mreturn\u001b[39;00m \u001b[38;5;28mself\u001b[39m\u001b[38;5;241m.\u001b[39mcopy(params)\u001b[38;5;241m.\u001b[39m_fit(dataset)\n\u001b[1;32m    204\u001b[0m     \u001b[38;5;28;01melse\u001b[39;00m:\n\u001b[0;32m--> 205\u001b[0m         \u001b[38;5;28;01mreturn\u001b[39;00m \u001b[38;5;28;43mself\u001b[39;49m\u001b[38;5;241;43m.\u001b[39;49m\u001b[43m_fit\u001b[49m\u001b[43m(\u001b[49m\u001b[43mdataset\u001b[49m\u001b[43m)\u001b[49m\n\u001b[1;32m    206\u001b[0m \u001b[38;5;28;01melse\u001b[39;00m:\n\u001b[1;32m    207\u001b[0m     \u001b[38;5;28;01mraise\u001b[39;00m \u001b[38;5;167;01mTypeError\u001b[39;00m(\n\u001b[1;32m    208\u001b[0m         \u001b[38;5;124m\"\u001b[39m\u001b[38;5;124mParams must be either a param map or a list/tuple of param maps, \u001b[39m\u001b[38;5;124m\"\u001b[39m\n\u001b[1;32m    209\u001b[0m         \u001b[38;5;124m\"\u001b[39m\u001b[38;5;124mbut got \u001b[39m\u001b[38;5;132;01m%s\u001b[39;00m\u001b[38;5;124m.\u001b[39m\u001b[38;5;124m\"\u001b[39m \u001b[38;5;241m%\u001b[39m \u001b[38;5;28mtype\u001b[39m(params)\n\u001b[1;32m    210\u001b[0m     )\n",
      "File \u001b[0;32m/usr/local/lib/python3.8/dist-packages/pyspark/ml/wrapper.py:383\u001b[0m, in \u001b[0;36mJavaEstimator._fit\u001b[0;34m(self, dataset)\u001b[0m\n\u001b[1;32m    382\u001b[0m \u001b[38;5;28;01mdef\u001b[39;00m \u001b[38;5;21m_fit\u001b[39m(\u001b[38;5;28mself\u001b[39m, dataset: DataFrame) \u001b[38;5;241m-\u001b[39m\u001b[38;5;241m>\u001b[39m JM:\n\u001b[0;32m--> 383\u001b[0m     java_model \u001b[38;5;241m=\u001b[39m \u001b[38;5;28;43mself\u001b[39;49m\u001b[38;5;241;43m.\u001b[39;49m\u001b[43m_fit_java\u001b[49m\u001b[43m(\u001b[49m\u001b[43mdataset\u001b[49m\u001b[43m)\u001b[49m\n\u001b[1;32m    384\u001b[0m     model \u001b[38;5;241m=\u001b[39m \u001b[38;5;28mself\u001b[39m\u001b[38;5;241m.\u001b[39m_create_model(java_model)\n\u001b[1;32m    385\u001b[0m     \u001b[38;5;28;01mreturn\u001b[39;00m \u001b[38;5;28mself\u001b[39m\u001b[38;5;241m.\u001b[39m_copyValues(model)\n",
      "File \u001b[0;32m/usr/local/lib/python3.8/dist-packages/pyspark/ml/wrapper.py:380\u001b[0m, in \u001b[0;36mJavaEstimator._fit_java\u001b[0;34m(self, dataset)\u001b[0m\n\u001b[1;32m    377\u001b[0m \u001b[38;5;28;01massert\u001b[39;00m \u001b[38;5;28mself\u001b[39m\u001b[38;5;241m.\u001b[39m_java_obj \u001b[38;5;129;01mis\u001b[39;00m \u001b[38;5;129;01mnot\u001b[39;00m \u001b[38;5;28;01mNone\u001b[39;00m\n\u001b[1;32m    379\u001b[0m \u001b[38;5;28mself\u001b[39m\u001b[38;5;241m.\u001b[39m_transfer_params_to_java()\n\u001b[0;32m--> 380\u001b[0m \u001b[38;5;28;01mreturn\u001b[39;00m \u001b[38;5;28;43mself\u001b[39;49m\u001b[38;5;241;43m.\u001b[39;49m\u001b[43m_java_obj\u001b[49m\u001b[38;5;241;43m.\u001b[39;49m\u001b[43mfit\u001b[49m\u001b[43m(\u001b[49m\u001b[43mdataset\u001b[49m\u001b[38;5;241;43m.\u001b[39;49m\u001b[43m_jdf\u001b[49m\u001b[43m)\u001b[49m\n",
      "File \u001b[0;32m/usr/local/lib/python3.8/dist-packages/py4j/java_gateway.py:1321\u001b[0m, in \u001b[0;36mJavaMember.__call__\u001b[0;34m(self, *args)\u001b[0m\n\u001b[1;32m   1315\u001b[0m command \u001b[38;5;241m=\u001b[39m proto\u001b[38;5;241m.\u001b[39mCALL_COMMAND_NAME \u001b[38;5;241m+\u001b[39m\\\n\u001b[1;32m   1316\u001b[0m     \u001b[38;5;28mself\u001b[39m\u001b[38;5;241m.\u001b[39mcommand_header \u001b[38;5;241m+\u001b[39m\\\n\u001b[1;32m   1317\u001b[0m     args_command \u001b[38;5;241m+\u001b[39m\\\n\u001b[1;32m   1318\u001b[0m     proto\u001b[38;5;241m.\u001b[39mEND_COMMAND_PART\n\u001b[1;32m   1320\u001b[0m answer \u001b[38;5;241m=\u001b[39m \u001b[38;5;28mself\u001b[39m\u001b[38;5;241m.\u001b[39mgateway_client\u001b[38;5;241m.\u001b[39msend_command(command)\n\u001b[0;32m-> 1321\u001b[0m return_value \u001b[38;5;241m=\u001b[39m \u001b[43mget_return_value\u001b[49m\u001b[43m(\u001b[49m\n\u001b[1;32m   1322\u001b[0m \u001b[43m    \u001b[49m\u001b[43manswer\u001b[49m\u001b[43m,\u001b[49m\u001b[43m \u001b[49m\u001b[38;5;28;43mself\u001b[39;49m\u001b[38;5;241;43m.\u001b[39;49m\u001b[43mgateway_client\u001b[49m\u001b[43m,\u001b[49m\u001b[43m \u001b[49m\u001b[38;5;28;43mself\u001b[39;49m\u001b[38;5;241;43m.\u001b[39;49m\u001b[43mtarget_id\u001b[49m\u001b[43m,\u001b[49m\u001b[43m \u001b[49m\u001b[38;5;28;43mself\u001b[39;49m\u001b[38;5;241;43m.\u001b[39;49m\u001b[43mname\u001b[49m\u001b[43m)\u001b[49m\n\u001b[1;32m   1324\u001b[0m \u001b[38;5;28;01mfor\u001b[39;00m temp_arg \u001b[38;5;129;01min\u001b[39;00m temp_args:\n\u001b[1;32m   1325\u001b[0m     temp_arg\u001b[38;5;241m.\u001b[39m_detach()\n",
      "File \u001b[0;32m/usr/local/lib/python3.8/dist-packages/pyspark/sql/utils.py:190\u001b[0m, in \u001b[0;36mcapture_sql_exception.<locals>.deco\u001b[0;34m(*a, **kw)\u001b[0m\n\u001b[1;32m    188\u001b[0m \u001b[38;5;28;01mdef\u001b[39;00m \u001b[38;5;21mdeco\u001b[39m(\u001b[38;5;241m*\u001b[39ma: Any, \u001b[38;5;241m*\u001b[39m\u001b[38;5;241m*\u001b[39mkw: Any) \u001b[38;5;241m-\u001b[39m\u001b[38;5;241m>\u001b[39m Any:\n\u001b[1;32m    189\u001b[0m     \u001b[38;5;28;01mtry\u001b[39;00m:\n\u001b[0;32m--> 190\u001b[0m         \u001b[38;5;28;01mreturn\u001b[39;00m \u001b[43mf\u001b[49m\u001b[43m(\u001b[49m\u001b[38;5;241;43m*\u001b[39;49m\u001b[43ma\u001b[49m\u001b[43m,\u001b[49m\u001b[43m \u001b[49m\u001b[38;5;241;43m*\u001b[39;49m\u001b[38;5;241;43m*\u001b[39;49m\u001b[43mkw\u001b[49m\u001b[43m)\u001b[49m\n\u001b[1;32m    191\u001b[0m     \u001b[38;5;28;01mexcept\u001b[39;00m Py4JJavaError \u001b[38;5;28;01mas\u001b[39;00m e:\n\u001b[1;32m    192\u001b[0m         converted \u001b[38;5;241m=\u001b[39m convert_exception(e\u001b[38;5;241m.\u001b[39mjava_exception)\n",
      "File \u001b[0;32m/usr/local/lib/python3.8/dist-packages/py4j/protocol.py:334\u001b[0m, in \u001b[0;36mget_return_value\u001b[0;34m(answer, gateway_client, target_id, name)\u001b[0m\n\u001b[1;32m    330\u001b[0m             \u001b[38;5;28;01mraise\u001b[39;00m Py4JError(\n\u001b[1;32m    331\u001b[0m                 \u001b[38;5;124m\"\u001b[39m\u001b[38;5;124mAn error occurred while calling \u001b[39m\u001b[38;5;132;01m{0}\u001b[39;00m\u001b[38;5;132;01m{1}\u001b[39;00m\u001b[38;5;132;01m{2}\u001b[39;00m\u001b[38;5;124m. Trace:\u001b[39m\u001b[38;5;130;01m\\n\u001b[39;00m\u001b[38;5;132;01m{3}\u001b[39;00m\u001b[38;5;130;01m\\n\u001b[39;00m\u001b[38;5;124m\"\u001b[39m\u001b[38;5;241m.\u001b[39m\n\u001b[1;32m    332\u001b[0m                 \u001b[38;5;28mformat\u001b[39m(target_id, \u001b[38;5;124m\"\u001b[39m\u001b[38;5;124m.\u001b[39m\u001b[38;5;124m\"\u001b[39m, name, value))\n\u001b[1;32m    333\u001b[0m     \u001b[38;5;28;01melse\u001b[39;00m:\n\u001b[0;32m--> 334\u001b[0m         \u001b[38;5;28;01mraise\u001b[39;00m Py4JError(\n\u001b[1;32m    335\u001b[0m             \u001b[38;5;124m\"\u001b[39m\u001b[38;5;124mAn error occurred while calling \u001b[39m\u001b[38;5;132;01m{0}\u001b[39;00m\u001b[38;5;132;01m{1}\u001b[39;00m\u001b[38;5;132;01m{2}\u001b[39;00m\u001b[38;5;124m\"\u001b[39m\u001b[38;5;241m.\u001b[39m\n\u001b[1;32m    336\u001b[0m             \u001b[38;5;28mformat\u001b[39m(target_id, \u001b[38;5;124m\"\u001b[39m\u001b[38;5;124m.\u001b[39m\u001b[38;5;124m\"\u001b[39m, name))\n\u001b[1;32m    337\u001b[0m \u001b[38;5;28;01melse\u001b[39;00m:\n\u001b[1;32m    338\u001b[0m     \u001b[38;5;28mtype\u001b[39m \u001b[38;5;241m=\u001b[39m answer[\u001b[38;5;241m1\u001b[39m]\n",
      "\u001b[0;31mPy4JError\u001b[0m: An error occurred while calling o147.fit"
     ]
    }
   ],
   "source": [
    "lr_model = lr.fit(train_df)"
   ]
  },
  {
   "cell_type": "markdown",
   "id": "e2d11e09",
   "metadata": {},
   "source": [
    "### Provide prediction based on  trained model."
   ]
  },
  {
   "cell_type": "code",
   "execution_count": null,
   "id": "8851eb8c",
   "metadata": {},
   "outputs": [],
   "source": [
    "y_pred = lr_model.transform(test_df)"
   ]
  },
  {
   "cell_type": "markdown",
   "id": "933d30f1",
   "metadata": {},
   "source": [
    "### Show prediction vs. true values on test data set."
   ]
  },
  {
   "cell_type": "code",
   "execution_count": null,
   "id": "f6be8aa4",
   "metadata": {},
   "outputs": [],
   "source": [
    "df_target_vs_prediction = y_pred.select('Target', 'prediction')"
   ]
  },
  {
   "cell_type": "code",
   "execution_count": null,
   "id": "acedee60",
   "metadata": {},
   "outputs": [],
   "source": [
    "df_target_vs_prediction.show(10)"
   ]
  },
  {
   "cell_type": "markdown",
   "id": "90c3102a",
   "metadata": {},
   "source": [
    "## Model Evaluation"
   ]
  },
  {
   "cell_type": "markdown",
   "id": "24a270c6",
   "metadata": {},
   "source": [
    "### Model evaluation measures"
   ]
  },
  {
   "cell_type": "markdown",
   "id": "a06bff84",
   "metadata": {},
   "source": [
    "### Confusion matrix"
   ]
  },
  {
   "cell_type": "code",
   "execution_count": null,
   "id": "2c5dcc29",
   "metadata": {},
   "outputs": [],
   "source": [
    "metrics = MulticlassMetrics(df_target_vs_prediction.rdd.map(tuple))\n",
    "print(metrics.confusionMatrix().toArray())"
   ]
  },
  {
   "cell_type": "markdown",
   "id": "9f367a99",
   "metadata": {},
   "source": [
    "### Evaluation measures"
   ]
  },
  {
   "cell_type": "code",
   "execution_count": null,
   "id": "9b397f9d",
   "metadata": {},
   "outputs": [],
   "source": [
    "multi_evaluator_acc = MulticlassClassificationEvaluator(labelCol='Target', metricName='accuracy')\n",
    "print(f'Prediction Accuracy: {multi_evaluator_acc.evaluate(y_pred)}')\n",
    "multi_evaluator_prec = MulticlassClassificationEvaluator(labelCol='Target', metricName='precisionByLabel')\n",
    "print(f'Prediction Precision: {multi_evaluator_prec.evaluate(y_pred)}')\n",
    "multi_evaluator_rec = MulticlassClassificationEvaluator(labelCol='Target', metricName='recallByLabel')\n",
    "print(f'Prediction Recall: {multi_evaluator_rec.evaluate(y_pred)}')\n",
    "multi_evaluator_f1 = MulticlassClassificationEvaluator(labelCol='Target', metricName='f1')\n",
    "print(f'Prediction F1-Score: {multi_evaluator_f1.evaluate(y_pred)}')"
   ]
  },
  {
   "cell_type": "code",
   "execution_count": null,
   "id": "987c051e",
   "metadata": {},
   "outputs": [],
   "source": []
  }
 ],
 "metadata": {
  "kernelspec": {
   "display_name": "Python 3 (ipykernel)",
   "language": "python",
   "name": "python3"
  },
  "language_info": {
   "codemirror_mode": {
    "name": "ipython",
    "version": 3
   },
   "file_extension": ".py",
   "mimetype": "text/x-python",
   "name": "python",
   "nbconvert_exporter": "python",
   "pygments_lexer": "ipython3",
   "version": "3.8.10"
  }
 },
 "nbformat": 4,
 "nbformat_minor": 5
}
