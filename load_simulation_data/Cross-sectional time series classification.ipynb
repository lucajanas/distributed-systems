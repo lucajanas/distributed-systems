{
 "cells": [
  {
   "cell_type": "markdown",
   "id": "6e943633",
   "metadata": {},
   "source": [
    "# Import packages"
   ]
  },
  {
   "cell_type": "code",
   "execution_count": 1,
   "id": "59cc9995",
   "metadata": {},
   "outputs": [
    {
     "name": "stdout",
     "output_type": "stream",
     "text": [
      "Collecting numpy\n",
      "  Downloading numpy-1.23.4-cp38-cp38-manylinux_2_17_x86_64.manylinux2014_x86_64.whl (17.1 MB)\n",
      "\u001b[K     |████████████████████████████████| 17.1 MB 7.6 MB/s eta 0:00:01     |███████████████████████████▍    | 14.6 MB 6.3 MB/s eta 0:00:01     |██████████████████████████████▎ | 16.2 MB 7.6 MB/s eta 0:00:01\n",
      "\u001b[?25hInstalling collected packages: numpy\n",
      "Successfully installed numpy-1.23.4\n"
     ]
    }
   ],
   "source": [
    "!pip install numpy # if necessary "
   ]
  },
  {
   "cell_type": "code",
   "execution_count": 2,
   "id": "a41c4d34",
   "metadata": {},
   "outputs": [],
   "source": [
    "import warnings\n",
    "warnings.filterwarnings('ignore')\n",
    "\n",
    "import pyspark\n",
    "from pyspark.sql import SparkSession\n",
    "from pyspark.sql.types import *\n",
    "import pyspark.sql.functions as F\n",
    "from pyspark.ml.feature import VectorAssembler, StringIndexer\n",
    "from pyspark.ml.classification import LogisticRegression\n",
    "from pyspark.ml.evaluation import MulticlassClassificationEvaluator\n",
    "from pyspark.mllib.evaluation import MulticlassMetrics"
   ]
  },
  {
   "cell_type": "markdown",
   "id": "c398fba0",
   "metadata": {},
   "source": [
    "# Connection to Spark instance"
   ]
  },
  {
   "cell_type": "code",
   "execution_count": 3,
   "id": "68256266",
   "metadata": {},
   "outputs": [
    {
     "name": "stderr",
     "output_type": "stream",
     "text": [
      "Setting default log level to \"WARN\".\n",
      "To adjust logging level use sc.setLogLevel(newLevel). For SparkR, use setLogLevel(newLevel).\n"
     ]
    },
    {
     "name": "stdout",
     "output_type": "stream",
     "text": [
      "22/11/08 16:57:00 WARN NativeCodeLoader: Unable to load native-hadoop library for your platform... using builtin-java classes where applicable\n",
      "Submitted application!\n"
     ]
    }
   ],
   "source": [
    "conf = pyspark.SparkConf().setMaster('spark://172.18.0.22:7077')\n",
    "spark = SparkSession \\\n",
    "    .builder.config(conf=conf) \\\n",
    "    .appName(\"Python\") \\\n",
    "    .getOrCreate()\n",
    "print('Submitted application!')"
   ]
  },
  {
   "cell_type": "markdown",
   "id": "3055b1c1",
   "metadata": {},
   "source": [
    "# Read csv files from container\n",
    "Please download the six files \"ts_data_block_$i$.csv\", $i={1,...,6}$, from GoogleDrive and upload it to this container before.\n",
    "You can find the file here https://drive.google.com/drive/folders/1yvU4RxPRLoy-KmEMYfy-Ibn0SjIPHD5_?usp=share_link"
   ]
  },
  {
   "cell_type": "code",
   "execution_count": 4,
   "id": "0e8a13ed",
   "metadata": {},
   "outputs": [
    {
     "name": "stderr",
     "output_type": "stream",
     "text": [
      "                                                                                \r"
     ]
    },
    {
     "name": "stdout",
     "output_type": "stream",
     "text": [
      "Read data block number 1.\n"
     ]
    },
    {
     "name": "stderr",
     "output_type": "stream",
     "text": [
      "                                                                                \r"
     ]
    },
    {
     "name": "stdout",
     "output_type": "stream",
     "text": [
      "Read data block number 2.\n"
     ]
    },
    {
     "name": "stderr",
     "output_type": "stream",
     "text": [
      "                                                                                \r"
     ]
    },
    {
     "name": "stdout",
     "output_type": "stream",
     "text": [
      "Read data block number 3.\n"
     ]
    },
    {
     "name": "stderr",
     "output_type": "stream",
     "text": [
      "                                                                                \r"
     ]
    },
    {
     "name": "stdout",
     "output_type": "stream",
     "text": [
      "Read data block number 4.\n"
     ]
    },
    {
     "name": "stderr",
     "output_type": "stream",
     "text": [
      "                                                                                \r"
     ]
    },
    {
     "name": "stdout",
     "output_type": "stream",
     "text": [
      "Read data block number 5.\n"
     ]
    },
    {
     "name": "stderr",
     "output_type": "stream",
     "text": [
      "[Stage 11:>                                                         (0 + 1) / 1]\r"
     ]
    },
    {
     "name": "stdout",
     "output_type": "stream",
     "text": [
      "Read data block number 6.\n",
      "All data blocks read and concatenated.\n"
     ]
    },
    {
     "name": "stderr",
     "output_type": "stream",
     "text": [
      "                                                                                \r"
     ]
    }
   ],
   "source": [
    "# Create an empty RDD\n",
    "emp_RDD = spark.sparkContext.emptyRDD()\n",
    "columns = StructType([StructField('datetime', DateType(), False),\n",
    "                       StructField('pulse', FloatType(), False),\n",
    "                       StructField('category', StringType(), False),\n",
    "                       StructField('ts_number', StringType(), False)])\n",
    "\n",
    "df = spark.createDataFrame(data=emp_RDD, schema=columns)\n",
    "\n",
    "for i in range(1, 7):\n",
    "\n",
    "    df_temp = spark.read.format(\"csv\") \\\n",
    "        .option('header', True) \\\n",
    "        .option('multiLine', True) \\\n",
    "        .option('inferSchema', True) \\\n",
    "        .load(f\"file:////data/ts_data_block_{i}.csv\")\n",
    "    \n",
    "    print(f'Read data block number {i}.')\n",
    "    \n",
    "    df = df.union(df_temp)\n",
    "\n",
    "print('All data blocks read and concatenated.')"
   ]
  },
  {
   "cell_type": "code",
   "execution_count": 5,
   "id": "41969e10",
   "metadata": {},
   "outputs": [
    {
     "name": "stderr",
     "output_type": "stream",
     "text": [
      "[Stage 12:>                                                         (0 + 1) / 1]\r"
     ]
    },
    {
     "name": "stdout",
     "output_type": "stream",
     "text": [
      "+-------------------+-----+-----------+---------+\n",
      "|           datetime|pulse|   category|ts_number|\n",
      "+-------------------+-----+-----------+---------+\n",
      "|2021-01-01 00:00:00| 80.0|non_athlete|      1_1|\n",
      "|2021-01-02 00:00:00| 84.0|non_athlete|      1_1|\n",
      "|2021-01-03 00:00:00| 79.0|non_athlete|      1_1|\n",
      "|2021-01-04 00:00:00| 83.0|non_athlete|      1_1|\n",
      "|2021-01-05 00:00:00| 78.0|non_athlete|      1_1|\n",
      "+-------------------+-----+-----------+---------+\n",
      "only showing top 5 rows\n",
      "\n"
     ]
    },
    {
     "name": "stderr",
     "output_type": "stream",
     "text": [
      "                                                                                \r"
     ]
    }
   ],
   "source": [
    "df.show(5)"
   ]
  },
  {
   "cell_type": "code",
   "execution_count": 6,
   "id": "1fc1e830",
   "metadata": {},
   "outputs": [],
   "source": [
    "# print(f'Dataframe consists of {df.count()} rows.')"
   ]
  },
  {
   "cell_type": "markdown",
   "id": "47790b7e",
   "metadata": {},
   "source": [
    "# Applying Machine Learning Classification Model on time series data."
   ]
  },
  {
   "cell_type": "markdown",
   "id": "b4b72f82",
   "metadata": {},
   "source": [
    "## Feature Engineering"
   ]
  },
  {
   "cell_type": "markdown",
   "id": "3bb96ecd",
   "metadata": {},
   "source": [
    "### Groupby time series data by the columns 'ts_number' and 'category' and apply descriptive statistic measures on the column 'pulse' (analogue to pandas' describe() method)"
   ]
  },
  {
   "cell_type": "code",
   "execution_count": 7,
   "id": "3a6ad1e8",
   "metadata": {},
   "outputs": [],
   "source": [
    "# Define function for calculation descriptive statistics.\n",
    "def groupby_describe(df, groupby_col, stat_col):\n",
    "    out = df.groupby(groupby_col).agg(\n",
    "        F.mean(stat_col).alias(\"mean\"),\n",
    "        F.stddev(stat_col).alias(\"std\"),\n",
    "        F.min(stat_col).alias(\"min\"),\n",
    "        F.expr(f\"percentile({stat_col}, array(0.25))\")[0].alias(\"low_quart\"),\n",
    "        F.expr(f\"percentile({stat_col}, array(0.5))\")[0].alias(\"median\"),\n",
    "        F.expr(f\"percentile({stat_col}, array(0.75))\")[0].alias(\"up_quart\"),\n",
    "        F.max(stat_col).alias(\"max\"),\n",
    "    )\n",
    "    return out\n",
    "\n",
    "df_stats = groupby_describe(df, ['ts_number', 'category'], 'pulse')"
   ]
  },
  {
   "cell_type": "code",
   "execution_count": 8,
   "id": "6e39d512",
   "metadata": {},
   "outputs": [
    {
     "name": "stderr",
     "output_type": "stream",
     "text": [
      "[Stage 15:>                                                         (0 + 1) / 1]\r"
     ]
    },
    {
     "name": "stdout",
     "output_type": "stream",
     "text": [
      "+---------+-----------+-----------------+------------------+----+---------+------+--------+----+\n",
      "|ts_number|   category|             mean|               std| min|low_quart|median|up_quart| max|\n",
      "+---------+-----------+-----------------+------------------+----+---------+------+--------+----+\n",
      "| 10000_11|    athlete|62.51111111111111|3.2987721394429537|54.0|     60.0|  62.5|    65.0|71.0|\n",
      "|  10000_9|pro_athlete|52.56666666666667|2.4588752338681874|46.0|     51.0|  52.0|    54.0|59.0|\n",
      "| 10001_31|    athlete|65.82222222222222| 6.180029049380432|51.0|     62.0|  66.5|    71.0|79.0|\n",
      "|  10002_2|    athlete|63.48888888888889| 2.366642928614402|59.0|     62.0|  63.5|    65.0|70.0|\n",
      "| 10002_38|    athlete|58.93333333333333| 2.021235577172282|54.0|     58.0|  59.0|    60.0|64.0|\n",
      "+---------+-----------+-----------------+------------------+----+---------+------+--------+----+\n",
      "only showing top 5 rows\n",
      "\n"
     ]
    },
    {
     "name": "stderr",
     "output_type": "stream",
     "text": [
      "                                                                                \r"
     ]
    }
   ],
   "source": [
    "df_stats.show(5)"
   ]
  },
  {
   "cell_type": "code",
   "execution_count": 9,
   "id": "1d1e1903",
   "metadata": {},
   "outputs": [],
   "source": [
    "#print(f'Dataframe consists of {df_stats.count()} rows.')"
   ]
  },
  {
   "cell_type": "markdown",
   "id": "c27d6df0",
   "metadata": {},
   "source": [
    "### Encoding \"category\" column and store as new column 'Target'"
   ]
  },
  {
   "cell_type": "code",
   "execution_count": 10,
   "id": "57eed2ba",
   "metadata": {},
   "outputs": [
    {
     "name": "stderr",
     "output_type": "stream",
     "text": [
      "                                                                                \r"
     ]
    }
   ],
   "source": [
    "catEncoder = StringIndexer(inputCol='category', outputCol='Target').fit(df_stats)\n",
    "df_stats = catEncoder.transform(df_stats)"
   ]
  },
  {
   "cell_type": "code",
   "execution_count": 11,
   "id": "1cf01725",
   "metadata": {},
   "outputs": [
    {
     "name": "stderr",
     "output_type": "stream",
     "text": [
      "[Stage 24:>                                                         (0 + 1) / 1]\r"
     ]
    },
    {
     "name": "stdout",
     "output_type": "stream",
     "text": [
      "+---------+-----------+-----------------+------------------+----+---------+------+--------+----+------+\n",
      "|ts_number|   category|             mean|               std| min|low_quart|median|up_quart| max|Target|\n",
      "+---------+-----------+-----------------+------------------+----+---------+------+--------+----+------+\n",
      "| 10000_11|    athlete|62.51111111111111|3.2987721394429537|54.0|     60.0|  62.5|    65.0|71.0|   0.0|\n",
      "|  10000_9|pro_athlete|52.56666666666667|2.4588752338681874|46.0|     51.0|  52.0|    54.0|59.0|   2.0|\n",
      "| 10001_31|    athlete|65.82222222222222| 6.180029049380432|51.0|     62.0|  66.5|    71.0|79.0|   0.0|\n",
      "|  10002_2|    athlete|63.48888888888889| 2.366642928614402|59.0|     62.0|  63.5|    65.0|70.0|   0.0|\n",
      "| 10002_38|    athlete|58.93333333333333| 2.021235577172282|54.0|     58.0|  59.0|    60.0|64.0|   0.0|\n",
      "+---------+-----------+-----------------+------------------+----+---------+------+--------+----+------+\n",
      "only showing top 5 rows\n",
      "\n"
     ]
    },
    {
     "name": "stderr",
     "output_type": "stream",
     "text": [
      "                                                                                \r"
     ]
    }
   ],
   "source": [
    "df_stats.show(5)"
   ]
  },
  {
   "cell_type": "markdown",
   "id": "f953917d",
   "metadata": {},
   "source": [
    "### Transform features to a vector"
   ]
  },
  {
   "cell_type": "code",
   "execution_count": 12,
   "id": "e0e605c0",
   "metadata": {},
   "outputs": [
    {
     "name": "stdout",
     "output_type": "stream",
     "text": [
      "Transform features to vector and store as 'features':\n"
     ]
    }
   ],
   "source": [
    "print(\"Transform features to vector and store as 'features':\")\n",
    "required_features = ['mean', 'std', 'min', 'low_quart', 'median', 'up_quart', 'max']\n",
    "\n",
    "vec_assembler = VectorAssembler(inputCols=required_features, outputCol='features')\n",
    "df_stats_vec = vec_assembler.transform(df_stats)"
   ]
  },
  {
   "cell_type": "code",
   "execution_count": 13,
   "id": "489c9b66",
   "metadata": {},
   "outputs": [
    {
     "name": "stderr",
     "output_type": "stream",
     "text": [
      "[Stage 27:>                                                         (0 + 1) / 1]\r"
     ]
    },
    {
     "name": "stdout",
     "output_type": "stream",
     "text": [
      "+---------+-----------+-----------------+------------------+----+---------+------+--------+----+------+--------------------+\n",
      "|ts_number|   category|             mean|               std| min|low_quart|median|up_quart| max|Target|            features|\n",
      "+---------+-----------+-----------------+------------------+----+---------+------+--------+----+------+--------------------+\n",
      "| 10000_11|    athlete|62.51111111111111|3.2987721394429537|54.0|     60.0|  62.5|    65.0|71.0|   0.0|[62.5111111111111...|\n",
      "|  10000_9|pro_athlete|52.56666666666667|2.4588752338681874|46.0|     51.0|  52.0|    54.0|59.0|   2.0|[52.5666666666666...|\n",
      "| 10001_31|    athlete|65.82222222222222| 6.180029049380432|51.0|     62.0|  66.5|    71.0|79.0|   0.0|[65.8222222222222...|\n",
      "|  10002_2|    athlete|63.48888888888889| 2.366642928614402|59.0|     62.0|  63.5|    65.0|70.0|   0.0|[63.4888888888888...|\n",
      "| 10002_38|    athlete|58.93333333333333| 2.021235577172282|54.0|     58.0|  59.0|    60.0|64.0|   0.0|[58.9333333333333...|\n",
      "+---------+-----------+-----------------+------------------+----+---------+------+--------+----+------+--------------------+\n",
      "only showing top 5 rows\n",
      "\n"
     ]
    },
    {
     "name": "stderr",
     "output_type": "stream",
     "text": [
      "                                                                                \r"
     ]
    }
   ],
   "source": [
    "df_stats_vec.show(5)"
   ]
  },
  {
   "cell_type": "markdown",
   "id": "cd94015d",
   "metadata": {},
   "source": [
    "### Split data set into training (70%) and test data set (30%)"
   ]
  },
  {
   "cell_type": "code",
   "execution_count": 14,
   "id": "52a0c80f",
   "metadata": {},
   "outputs": [],
   "source": [
    "train_df, test_df = df_stats_vec.randomSplit([0.7, 0.3], seed=12345)"
   ]
  },
  {
   "cell_type": "code",
   "execution_count": 15,
   "id": "f6bdfc10-a287-4f5b-a8ec-5521fd2a7fa0",
   "metadata": {},
   "outputs": [
    {
     "name": "stderr",
     "output_type": "stream",
     "text": [
      "[Stage 30:>                                                         (0 + 1) / 1]\r"
     ]
    },
    {
     "name": "stdout",
     "output_type": "stream",
     "text": [
      "+---------+-----------+-----------------+------------------+----+---------+------+--------+----+------+--------------------+\n",
      "|ts_number|   category|             mean|               std| min|low_quart|median|up_quart| max|Target|            features|\n",
      "+---------+-----------+-----------------+------------------+----+---------+------+--------+----+------+--------------------+\n",
      "| 10000_11|    athlete|62.51111111111111|3.2987721394429537|54.0|     60.0|  62.5|    65.0|71.0|   0.0|[62.5111111111111...|\n",
      "|  10000_9|pro_athlete|52.56666666666667|2.4588752338681874|46.0|     51.0|  52.0|    54.0|59.0|   2.0|[52.5666666666666...|\n",
      "| 10001_31|    athlete|65.82222222222222| 6.180029049380432|51.0|     62.0|  66.5|    71.0|79.0|   0.0|[65.8222222222222...|\n",
      "|  10002_2|    athlete|63.48888888888889| 2.366642928614402|59.0|     62.0|  63.5|    65.0|70.0|   0.0|[63.4888888888888...|\n",
      "| 10002_38|    athlete|58.93333333333333| 2.021235577172282|54.0|     58.0|  59.0|    60.0|64.0|   0.0|[58.9333333333333...|\n",
      "+---------+-----------+-----------------+------------------+----+---------+------+--------+----+------+--------------------+\n",
      "only showing top 5 rows\n",
      "\n"
     ]
    },
    {
     "name": "stderr",
     "output_type": "stream",
     "text": [
      "                                                                                \r"
     ]
    }
   ],
   "source": [
    "train_df.show(5)"
   ]
  },
  {
   "cell_type": "code",
   "execution_count": 16,
   "id": "5e0ed4da",
   "metadata": {},
   "outputs": [],
   "source": [
    "#print(f\"Number of train dataset: {train_df.count()}\")\n",
    "#print(f\"Number of test  dataset: {test_df.count()}\")"
   ]
  },
  {
   "cell_type": "markdown",
   "id": "fafd155d",
   "metadata": {},
   "source": [
    "## Apply Multinomial Logistic Regression as Classification Model"
   ]
  },
  {
   "cell_type": "markdown",
   "id": "87fcd166",
   "metadata": {},
   "source": [
    "### Apply Logistic Regression model based on training data set and predict category on test data set"
   ]
  },
  {
   "cell_type": "code",
   "execution_count": 17,
   "id": "570eccd2-ed1a-45fc-a3fb-6d755ec0fc8c",
   "metadata": {},
   "outputs": [],
   "source": [
    "lr = LogisticRegression(featuresCol='features', labelCol='Target')"
   ]
  },
  {
   "cell_type": "code",
   "execution_count": 18,
   "id": "c227265f",
   "metadata": {},
   "outputs": [
    {
     "name": "stderr",
     "output_type": "stream",
     "text": [
      "[Stage 372:===============================================>         (5 + 1) / 6]\r"
     ]
    }
   ],
   "source": [
    "lr_model = lr.fit(train_df)"
   ]
  },
  {
   "cell_type": "markdown",
   "id": "e2d11e09",
   "metadata": {},
   "source": [
    "### Provide prediction based on  trained model."
   ]
  },
  {
   "cell_type": "code",
   "execution_count": 19,
   "id": "8851eb8c",
   "metadata": {},
   "outputs": [],
   "source": [
    "y_pred = lr_model.transform(test_df)"
   ]
  },
  {
   "cell_type": "markdown",
   "id": "933d30f1",
   "metadata": {},
   "source": [
    "### Show prediction vs. true values on test data set."
   ]
  },
  {
   "cell_type": "code",
   "execution_count": 20,
   "id": "f6be8aa4",
   "metadata": {},
   "outputs": [],
   "source": [
    "df_target_vs_prediction = y_pred.select('Target', 'prediction')"
   ]
  },
  {
   "cell_type": "code",
   "execution_count": 21,
   "id": "acedee60",
   "metadata": {},
   "outputs": [
    {
     "name": "stderr",
     "output_type": "stream",
     "text": [
      "[Stage 375:>                                                        (0 + 1) / 1]\r"
     ]
    },
    {
     "name": "stdout",
     "output_type": "stream",
     "text": [
      "+------+----------+\n",
      "|Target|prediction|\n",
      "+------+----------+\n",
      "|   1.0|       1.0|\n",
      "|   1.0|       1.0|\n",
      "|   2.0|       2.0|\n",
      "|   2.0|       2.0|\n",
      "|   0.0|       0.0|\n",
      "|   0.0|       0.0|\n",
      "|   1.0|       1.0|\n",
      "|   2.0|       2.0|\n",
      "|   0.0|       0.0|\n",
      "|   1.0|       1.0|\n",
      "+------+----------+\n",
      "only showing top 10 rows\n",
      "\n"
     ]
    },
    {
     "name": "stderr",
     "output_type": "stream",
     "text": [
      "                                                                                \r"
     ]
    }
   ],
   "source": [
    "df_target_vs_prediction.show(10)"
   ]
  },
  {
   "cell_type": "markdown",
   "id": "90c3102a",
   "metadata": {},
   "source": [
    "## Model Evaluation"
   ]
  },
  {
   "cell_type": "markdown",
   "id": "24a270c6",
   "metadata": {},
   "source": [
    "### Model evaluation measures"
   ]
  },
  {
   "cell_type": "markdown",
   "id": "a06bff84",
   "metadata": {},
   "source": [
    "### Confusion matrix"
   ]
  },
  {
   "cell_type": "code",
   "execution_count": 22,
   "id": "2c5dcc29",
   "metadata": {},
   "outputs": [
    {
     "name": "stderr",
     "output_type": "stream",
     "text": [
      "[Stage 380:===================================================>   (16 + 1) / 17]\r"
     ]
    },
    {
     "name": "stdout",
     "output_type": "stream",
     "text": [
      "[[135481.  10054.   3546.]\n",
      " [ 10317. 140633.      0.]\n",
      " [  5488.      0. 145935.]]\n"
     ]
    },
    {
     "name": "stderr",
     "output_type": "stream",
     "text": [
      "                                                                                \r"
     ]
    }
   ],
   "source": [
    "metrics = MulticlassMetrics(df_target_vs_prediction.rdd.map(tuple))\n",
    "print(metrics.confusionMatrix().toArray())"
   ]
  },
  {
   "cell_type": "markdown",
   "id": "9f367a99",
   "metadata": {},
   "source": [
    "### Evaluation measures"
   ]
  },
  {
   "cell_type": "code",
   "execution_count": 23,
   "id": "9b397f9d",
   "metadata": {},
   "outputs": [
    {
     "name": "stderr",
     "output_type": "stream",
     "text": [
      "                                                                                \r"
     ]
    },
    {
     "name": "stdout",
     "output_type": "stream",
     "text": [
      "Prediction Accuracy: 0.9348660107120548\n"
     ]
    },
    {
     "name": "stderr",
     "output_type": "stream",
     "text": [
      "                                                                                \r"
     ]
    },
    {
     "name": "stdout",
     "output_type": "stream",
     "text": [
      "Prediction Precision: 0.9087744246416377\n"
     ]
    },
    {
     "name": "stderr",
     "output_type": "stream",
     "text": [
      "                                                                                \r"
     ]
    },
    {
     "name": "stdout",
     "output_type": "stream",
     "text": [
      "Prediction Recall: 0.8955289980566609\n"
     ]
    },
    {
     "name": "stderr",
     "output_type": "stream",
     "text": [
      "[Stage 396:===================================================>   (16 + 1) / 17]\r"
     ]
    },
    {
     "name": "stdout",
     "output_type": "stream",
     "text": [
      "Prediction F1-Score: 0.9347111814071491\n"
     ]
    },
    {
     "name": "stderr",
     "output_type": "stream",
     "text": [
      "                                                                                \r"
     ]
    }
   ],
   "source": [
    "multi_evaluator_acc = MulticlassClassificationEvaluator(labelCol='Target', metricName='accuracy')\n",
    "print(f'Prediction Accuracy: {multi_evaluator_acc.evaluate(y_pred)}')\n",
    "multi_evaluator_prec = MulticlassClassificationEvaluator(labelCol='Target', metricName='precisionByLabel')\n",
    "print(f'Prediction Precision: {multi_evaluator_prec.evaluate(y_pred)}')\n",
    "multi_evaluator_rec = MulticlassClassificationEvaluator(labelCol='Target', metricName='recallByLabel')\n",
    "print(f'Prediction Recall: {multi_evaluator_rec.evaluate(y_pred)}')\n",
    "multi_evaluator_f1 = MulticlassClassificationEvaluator(labelCol='Target', metricName='f1')\n",
    "print(f'Prediction F1-Score: {multi_evaluator_f1.evaluate(y_pred)}')"
   ]
  },
  {
   "cell_type": "code",
   "execution_count": null,
   "id": "987c051e",
   "metadata": {},
   "outputs": [],
   "source": []
  }
 ],
 "metadata": {
  "kernelspec": {
   "display_name": "Python 3 (ipykernel)",
   "language": "python",
   "name": "python3"
  },
  "language_info": {
   "codemirror_mode": {
    "name": "ipython",
    "version": 3
   },
   "file_extension": ".py",
   "mimetype": "text/x-python",
   "name": "python",
   "nbconvert_exporter": "python",
   "pygments_lexer": "ipython3",
   "version": "3.8.10"
  }
 },
 "nbformat": 4,
 "nbformat_minor": 5
}
